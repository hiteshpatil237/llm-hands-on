{
 "cells": [
  {
   "cell_type": "code",
   "execution_count": 1,
   "id": "7f4ed427",
   "metadata": {},
   "outputs": [],
   "source": [
    "import pandas as pd\n",
    "\n",
    "pdf = pd.read_csv(f\"labelled_newscatcher_dataset.csv\", sep=\";\")\n",
    "pdf[\"id\"] = pdf.index"
   ]
  },
  {
   "cell_type": "code",
   "execution_count": 2,
   "id": "cdef0af8",
   "metadata": {},
   "outputs": [],
   "source": [
    "from sentence_transformers import InputExample\n",
    "\n",
    "pdf_subset = pdf.head(1000)\n",
    "\n",
    "def example_create_fn(doc1: pd.Series) -> InputExample:\n",
    "    \"\"\"\n",
    "    Helper function that outputs a sentence_transformer guid, label, and text\n",
    "    \"\"\"\n",
    "    return InputExample(texts=[doc1])\n",
    "\n",
    "faiss_train_examples = pdf_subset.apply(\n",
    "    lambda x: example_create_fn(x[\"title\"]), axis=1\n",
    ").tolist()"
   ]
  },
  {
   "cell_type": "code",
   "execution_count": 3,
   "id": "e670a97c",
   "metadata": {},
   "outputs": [
    {
     "data": {
      "text/plain": [
       "(1000, 384)"
      ]
     },
     "execution_count": 3,
     "metadata": {},
     "output_type": "execute_result"
    }
   ],
   "source": [
    "from sentence_transformers import SentenceTransformer\n",
    "\n",
    "model = SentenceTransformer(\n",
    "    \"all-MiniLM-L6-v2\"\n",
    ")\n",
    "faiss_title_embedding = model.encode(pdf_subset.title.values.tolist())\n",
    "len(faiss_title_embedding), len(faiss_title_embedding[0])"
   ]
  },
  {
   "cell_type": "code",
   "execution_count": 4,
   "id": "8abd700a",
   "metadata": {},
   "outputs": [],
   "source": [
    "import numpy as np\n",
    "import faiss\n",
    "\n",
    "pdf_to_index = pdf_subset.set_index([\"id\"], drop=False)\n",
    "id_index = np.array(pdf_to_index.id.values).flatten().astype(\"int\")\n",
    "\n",
    "content_encoded_normalized = faiss_title_embedding.copy()\n",
    "faiss.normalize_L2(content_encoded_normalized) # we do this step in order to make the dot product equal to cosine similarity\n",
    "\n",
    "# Index1DMap translates search results to IDs: https://faiss.ai/cpp_api/file/IndexIDMap_8h.html#_CPPv4I0EN5faiss18IndexIDMapTemplateE\n",
    "# The IndexFlatIP below builds index\n",
    "index_content = faiss.IndexIDMap(faiss.IndexFlatIP(len(faiss_title_embedding[0]))) #IndexFlatIP means no vector compression is involved\n",
    "#IndexIDMap is merely a function to maintain mapping between your IDs and embeddings\n",
    "index_content.add_with_ids(content_encoded_normalized, id_index)"
   ]
  },
  {
   "cell_type": "markdown",
   "id": "06fba8be",
   "metadata": {},
   "source": [
    "#### We define a search function below to first vectorize our query text, and then search for the vectors with the closest distance.\n",
    "\n"
   ]
  },
  {
   "cell_type": "code",
   "execution_count": 5,
   "id": "354853e4",
   "metadata": {},
   "outputs": [],
   "source": [
    "def search_content(query, pdf_to_index, k=3):\n",
    "    query_vector = model.encode([query])\n",
    "    faiss.normalize_L2(query_vector)\n",
    "\n",
    "    # We set k to limit the number of vectors we want to return\n",
    "    top_k = index_content.search(query_vector, k)\n",
    "    ids = top_k[1][0].tolist()\n",
    "    similarities = top_k[0][0].tolist()\n",
    "    results = pdf_to_index.loc[ids]\n",
    "    results[\"similarities\"] = similarities\n",
    "    return results"
   ]
  },
  {
   "cell_type": "code",
   "execution_count": 6,
   "id": "6190bec8",
   "metadata": {},
   "outputs": [
    {
     "name": "stdout",
     "output_type": "stream",
     "text": [
      "       topic                                               link  \\\n",
      "id                                                                \n",
      "294  SCIENCE  https://www.haveeru.com.mv/perseid-meteor-show...   \n",
      "113  SCIENCE  https://www.goshennews.com/news/rachel-shenk-m...   \n",
      "316  SCIENCE  https://www.firstpost.com/tech/science/perseid...   \n",
      "\n",
      "             domain       published_date  \\\n",
      "id                                         \n",
      "294  haveeru.com.mv  2020-08-10 21:13:55   \n",
      "113  goshennews.com  2020-08-17 02:15:00   \n",
      "316   firstpost.com  2020-08-12 03:17:12   \n",
      "\n",
      "                                                 title lang   id  similarities  \n",
      "id                                                                              \n",
      "294  Perseid meteor shower 2020: How and when to lo...   en  294      0.590013  \n",
      "113  RACHEL SHENK: Meteor shower is reminder of nat...   en  113      0.573253  \n",
      "316  Perseid meteor shower peaks tonight: Interesti...   en  316      0.561288  \n"
     ]
    }
   ],
   "source": [
    "print(search_content(\"meteor\", pdf_to_index))"
   ]
  },
  {
   "cell_type": "markdown",
   "id": "c31266a7",
   "metadata": {},
   "source": [
    "#### Using ChromaDB to actually retrieve, augment and generate text based on search queries"
   ]
  },
  {
   "cell_type": "code",
   "execution_count": 14,
   "id": "4444a994",
   "metadata": {},
   "outputs": [
    {
     "name": "stderr",
     "output_type": "stream",
     "text": [
      "Using embedded DuckDB with persistence: data will be stored in: .chromadb/\n"
     ]
    }
   ],
   "source": [
    "import chromadb\n",
    "from chromadb.config import Settings\n",
    "\n",
    "chroma_client = chromadb.Client(\n",
    "    Settings(\n",
    "        chroma_db_impl=\"duckdb+parquet\",\n",
    "        persist_directory='.chromadb/',  # this is an optional argument. If you don't supply this, the data will be ephemeral\n",
    "    )\n",
    ")"
   ]
  },
  {
   "cell_type": "markdown",
   "id": "16511327",
   "metadata": {},
   "source": [
    "#### \"collection\" here is an index that stores one set of your documents\n",
    "#### It is where you will store your embeddings, documents and additional metadata"
   ]
  },
  {
   "cell_type": "code",
   "execution_count": 15,
   "id": "8f2ddee0",
   "metadata": {},
   "outputs": [
    {
     "name": "stderr",
     "output_type": "stream",
     "text": [
      "No embedding_function provided, using default embedding function: SentenceTransformerEmbeddingFunction\n"
     ]
    },
    {
     "name": "stdout",
     "output_type": "stream",
     "text": [
      "Creating collection: 'my_news'\n"
     ]
    }
   ],
   "source": [
    "collection_name = \"my_news\"\n",
    "\n",
    "# If you have created the collection before, you need to delete the collection first\n",
    "if len(chroma_client.list_collections()) > 0 and collection_name in [chroma_client.list_collections()[0].name]:\n",
    "    chroma_client.delete_collection(name=collection_name)\n",
    "\n",
    "print(f\"Creating collection: '{collection_name}'\")\n",
    "collection = chroma_client.create_collection(name=collection_name)"
   ]
  },
  {
   "cell_type": "code",
   "execution_count": 16,
   "id": "7db1f3a9",
   "metadata": {},
   "outputs": [
    {
     "name": "stdout",
     "output_type": "stream",
     "text": [
      "          topic                                               link  \\\n",
      "0       SCIENCE  https://www.eurekalert.org/pub_releases/2020-0...   \n",
      "1       SCIENCE  https://www.pulse.ng/news/world/an-irresistibl...   \n",
      "2       SCIENCE  https://www.express.co.uk/news/science/1322607...   \n",
      "3       SCIENCE  https://www.ndtv.com/world-news/glaciers-could...   \n",
      "4       SCIENCE  https://www.thesun.ie/tech/5742187/perseid-met...   \n",
      "..          ...                                                ...   \n",
      "995  TECHNOLOGY  https://www.androidcentral.com/mate-40-will-be...   \n",
      "996     SCIENCE  https://www.cnn.com/2020/08/17/africa/stone-ag...   \n",
      "997      HEALTH  https://www.tenterfieldstar.com.au/story/68776...   \n",
      "998      HEALTH  https://news.sky.com/story/coronavirus-trials-...   \n",
      "999      HEALTH  https://www.techexplorist.com/study-demonstrat...   \n",
      "\n",
      "                     domain       published_date  \\\n",
      "0            eurekalert.org  2020-08-06 13:59:45   \n",
      "1                  pulse.ng  2020-08-12 15:14:19   \n",
      "2             express.co.uk  2020-08-13 21:01:00   \n",
      "3                  ndtv.com  2020-08-03 22:18:26   \n",
      "4                 thesun.ie  2020-08-12 19:54:36   \n",
      "..                      ...                  ...   \n",
      "995      androidcentral.com  2020-08-07 17:12:33   \n",
      "996                 cnn.com  2020-08-17 17:10:00   \n",
      "997  tenterfieldstar.com.au  2020-08-13 03:26:06   \n",
      "998            news.sky.com  2020-08-13 13:22:58   \n",
      "999       techexplorist.com  2020-08-10 07:47:00   \n",
      "\n",
      "                                                 title lang   id  \n",
      "0    A closer look at water-splitting's solar fuel ...   en    0  \n",
      "1    An irresistible scent makes locusts swarm, stu...   en    1  \n",
      "2    Artificial intelligence warning: AI will know ...   en    2  \n",
      "3     Glaciers Could Have Sculpted Mars Valleys: Study   en    3  \n",
      "4    Perseid meteor shower 2020: What time and how ...   en    4  \n",
      "..                                                 ...  ...  ...  \n",
      "995  The Mate 40 will be the last Huawei phone with...   en  995  \n",
      "996  Early humans knew how to make comfy, pest-free...   en  996  \n",
      "997           Regional Vic set for virus testing blitz   en  997  \n",
      "998  Coronavirus: Trials of second contact-tracing ...   en  998  \n",
      "999  The study demonstrates new treatment for prion...   en  999  \n",
      "\n",
      "[1000 rows x 7 columns]\n"
     ]
    }
   ],
   "source": [
    "print(pdf_subset)"
   ]
  },
  {
   "cell_type": "code",
   "execution_count": 17,
   "id": "3bf9b3b7",
   "metadata": {},
   "outputs": [],
   "source": [
    "collection.add(\n",
    "    documents=pdf_subset[\"title\"][:100].tolist(),\n",
    "    metadatas=[{\"topic\": topic} for topic in pdf_subset[\"topic\"][:100].tolist()],\n",
    "    ids=[f\"id{x}\" for x in range(100)],\n",
    ")"
   ]
  },
  {
   "cell_type": "code",
   "execution_count": 18,
   "id": "2fa60513",
   "metadata": {},
   "outputs": [
    {
     "name": "stdout",
     "output_type": "stream",
     "text": [
      "{\n",
      "    \"ids\": [\n",
      "        [\n",
      "            \"id72\",\n",
      "            \"id7\",\n",
      "            \"id30\",\n",
      "            \"id26\",\n",
      "            \"id23\",\n",
      "            \"id76\",\n",
      "            \"id69\",\n",
      "            \"id40\",\n",
      "            \"id47\",\n",
      "            \"id75\"\n",
      "        ]\n",
      "    ],\n",
      "    \"embeddings\": null,\n",
      "    \"documents\": [\n",
      "        [\n",
      "            \"Beck teams up with NASA and AI for 'Hyperspace' visual album experience\",\n",
      "            \"Orbital space tourism set for rebirth in 2021\",\n",
      "            \"NASA drops \\\"insensitive\\\" nicknames for cosmic objects\",\n",
      "            \"\\u2018It came alive:\\u2019 NASA astronauts describe experiencing splashdown in SpaceX Dragon\",\n",
      "            \"Hubble Uses Moon As \\u201cMirror\\u201d to Study Earth\\u2019s Atmosphere \\u2013 Proxy in Search of Potentially Habitable Planets Around Other Stars\",\n",
      "            \"Australia's small yet crucial part in the mission to find life on Mars\",\n",
      "            \"NASA Astronauts in SpaceX Capsule Splashdown in Gulf Of Mexico\",\n",
      "            \"SpaceX's Starship spacecraft saw 150 meters high\",\n",
      "            \"NASA\\u2019s InSight lander shows what\\u2019s beneath Mars\\u2019 surface\",\n",
      "            \"Alien base on Mercury: ET hunters claim to find huge UFO\"\n",
      "        ]\n",
      "    ],\n",
      "    \"metadatas\": [\n",
      "        [\n",
      "            {\n",
      "                \"topic\": \"TECHNOLOGY\"\n",
      "            },\n",
      "            {\n",
      "                \"topic\": \"SCIENCE\"\n",
      "            },\n",
      "            {\n",
      "                \"topic\": \"SCIENCE\"\n",
      "            },\n",
      "            {\n",
      "                \"topic\": \"SCIENCE\"\n",
      "            },\n",
      "            {\n",
      "                \"topic\": \"SCIENCE\"\n",
      "            },\n",
      "            {\n",
      "                \"topic\": \"SCIENCE\"\n",
      "            },\n",
      "            {\n",
      "                \"topic\": \"SCIENCE\"\n",
      "            },\n",
      "            {\n",
      "                \"topic\": \"SCIENCE\"\n",
      "            },\n",
      "            {\n",
      "                \"topic\": \"SCIENCE\"\n",
      "            },\n",
      "            {\n",
      "                \"topic\": \"SCIENCE\"\n",
      "            }\n",
      "        ]\n",
      "    ],\n",
      "    \"distances\": [\n",
      "        [\n",
      "            1.2250354290008545,\n",
      "            1.3089773654937744,\n",
      "            1.3910387754440308,\n",
      "            1.4064619541168213,\n",
      "            1.4391298294067383,\n",
      "            1.4898794889450073,\n",
      "            1.572824478149414,\n",
      "            1.5738130807876587,\n",
      "            1.583530068397522,\n",
      "            1.5864629745483398\n",
      "        ]\n",
      "    ]\n",
      "}\n"
     ]
    }
   ],
   "source": [
    "import json\n",
    "\n",
    "results = collection.query(query_texts=[\"space\"], n_results=10)\n",
    "\n",
    "print(json.dumps(results, indent=4))"
   ]
  },
  {
   "cell_type": "code",
   "execution_count": 19,
   "id": "e8d05689",
   "metadata": {},
   "outputs": [
    {
     "data": {
      "text/plain": [
       "{'ids': [['id7',\n",
       "   'id30',\n",
       "   'id26',\n",
       "   'id23',\n",
       "   'id76',\n",
       "   'id69',\n",
       "   'id40',\n",
       "   'id47',\n",
       "   'id75',\n",
       "   'id52']],\n",
       " 'embeddings': None,\n",
       " 'documents': [['Orbital space tourism set for rebirth in 2021',\n",
       "   'NASA drops \"insensitive\" nicknames for cosmic objects',\n",
       "   '‘It came alive:’ NASA astronauts describe experiencing splashdown in SpaceX Dragon',\n",
       "   'Hubble Uses Moon As “Mirror” to Study Earth’s Atmosphere – Proxy in Search of Potentially Habitable Planets Around Other Stars',\n",
       "   \"Australia's small yet crucial part in the mission to find life on Mars\",\n",
       "   'NASA Astronauts in SpaceX Capsule Splashdown in Gulf Of Mexico',\n",
       "   \"SpaceX's Starship spacecraft saw 150 meters high\",\n",
       "   'NASA’s InSight lander shows what’s beneath Mars’ surface',\n",
       "   'Alien base on Mercury: ET hunters claim to find huge UFO',\n",
       "   'SpaceX Crew-1 mission with NASA, first fully operational crewed mission to space to launch in October']],\n",
       " 'metadatas': [[{'topic': 'SCIENCE'},\n",
       "   {'topic': 'SCIENCE'},\n",
       "   {'topic': 'SCIENCE'},\n",
       "   {'topic': 'SCIENCE'},\n",
       "   {'topic': 'SCIENCE'},\n",
       "   {'topic': 'SCIENCE'},\n",
       "   {'topic': 'SCIENCE'},\n",
       "   {'topic': 'SCIENCE'},\n",
       "   {'topic': 'SCIENCE'},\n",
       "   {'topic': 'SCIENCE'}]],\n",
       " 'distances': [[1.3089773654937744,\n",
       "   1.3910387754440308,\n",
       "   1.4064619541168213,\n",
       "   1.4391298294067383,\n",
       "   1.4898794889450073,\n",
       "   1.572824478149414,\n",
       "   1.5738130807876587,\n",
       "   1.583530068397522,\n",
       "   1.5864629745483398,\n",
       "   1.59842848777771]]}"
      ]
     },
     "execution_count": 19,
     "metadata": {},
     "output_type": "execute_result"
    }
   ],
   "source": [
    "collection.query(query_texts=[\"space\"], where={\"topic\": \"SCIENCE\"}, n_results=10)"
   ]
  },
  {
   "cell_type": "code",
   "execution_count": null,
   "id": "3198f1cf",
   "metadata": {},
   "outputs": [],
   "source": []
  }
 ],
 "metadata": {
  "kernelspec": {
   "display_name": "Python 3",
   "language": "python",
   "name": "python3"
  },
  "language_info": {
   "codemirror_mode": {
    "name": "ipython",
    "version": 3
   },
   "file_extension": ".py",
   "mimetype": "text/x-python",
   "name": "python",
   "nbconvert_exporter": "python",
   "pygments_lexer": "ipython3",
   "version": "3.11.4"
  }
 },
 "nbformat": 4,
 "nbformat_minor": 5
}
