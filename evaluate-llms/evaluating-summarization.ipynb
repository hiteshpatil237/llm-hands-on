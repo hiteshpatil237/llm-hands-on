{
 "cells": [
  {
   "cell_type": "code",
   "execution_count": 1,
   "id": "71ff0e84",
   "metadata": {},
   "outputs": [],
   "source": [
    "import os\n",
    "from dotenv import load_dotenv\n",
    "\n",
    "# Load environment variables from .env file\n",
    "load_dotenv()\n",
    "\n",
    "# Access the API_KEY variable\n",
    "api_key = os.getenv(\"API_KEY\")\n",
    "huggingfacehub_api_token = os.getenv(\"HUGGINGFACEHUB_API_TOKEN\")\n",
    "serpapi_api_key = os.getenv(\"SERPAPI_API_KEY\")"
   ]
  },
  {
   "cell_type": "code",
   "execution_count": 2,
   "id": "3c313b61",
   "metadata": {},
   "outputs": [
    {
     "name": "stderr",
     "output_type": "stream",
     "text": [
      "D:\\llm-hands-on\\cuda\\Lib\\site-packages\\datasets\\table.py:1421: FutureWarning: promote has been superseded by mode='default'.\n",
      "  table = cls._concat_blocks(blocks, axis=0)\n"
     ]
    },
    {
     "data": {
      "text/plain": [
       "Dataset({\n",
       "    features: ['article', 'highlights', 'id'],\n",
       "    num_rows: 100\n",
       "})"
      ]
     },
     "execution_count": 2,
     "metadata": {},
     "output_type": "execute_result"
    }
   ],
   "source": [
    "import torch\n",
    "from datasets import load_dataset\n",
    "\n",
    "full_dataset = load_dataset(\n",
    "    \"cnn_dailymail\", version=\"3.0.0\"\n",
    ")\n",
    "\n",
    "# Use a small sample of the data during this lab, for speed.\n",
    "sample_size = 100\n",
    "sample = (\n",
    "    full_dataset[\"train\"]\n",
    "    .filter(lambda r: \"CNN\" in r[\"article\"][:25])\n",
    "    .shuffle(seed=42)\n",
    "    .select(range(sample_size))\n",
    ")\n",
    "sample"
   ]
  },
  {
   "cell_type": "code",
   "execution_count": 3,
   "id": "19ec904c",
   "metadata": {},
   "outputs": [
    {
     "name": "stdout",
     "output_type": "stream",
     "text": [
      "                                              article  \\\n",
      "0   (CNN) -- A magnitude 6.7 earthquake rattled Pa...   \n",
      "1   (CNN) -- Pakistan took big steps towards level...   \n",
      "2   (CNN) -- Federal prosecutors are pushing to fo...   \n",
      "3   Centennial, Colorado (CNN) -- McKayla Hicks sa...   \n",
      "4   (CNN) -- Double-amputee sprinter Oscar Pistori...   \n",
      "..                                                ...   \n",
      "95  (CNN) -- Samuel Eto'o netted a superb hat-tric...   \n",
      "96  Washington (CNN) -- President Barack Obama's r...   \n",
      "97  (CNN) -- Violence swept across Syria on Friday...   \n",
      "98  (CNN) -- New HIV infections have fallen worldw...   \n",
      "99  CHENGDU, China (CNN) -- Rainy weather and poor...   \n",
      "\n",
      "                                           highlights  \\\n",
      "0   Papua New Guinea is on the so-called Ring of F...   \n",
      "1   Australia collapse to 88 all out on opening da...   \n",
      "2   Jared Loughner is refusing the government's re...   \n",
      "3   Shooting victim McKayla Hicks went to hearing ...   \n",
      "4   Oscar Pistorius to become first double-amputee...   \n",
      "..                                                ...   \n",
      "95  Samuel Eto'o scored a hat-trick as Inter Milan...   \n",
      "96  Obama raised almost $30 million less than Romn...   \n",
      "97  NEW: U.N. Secretary-General Ban Ki-moon joins ...   \n",
      "98  New infections in sub-Saharan Africa 15 percen...   \n",
      "99  NEW: China says at least 10,000 dead but it ex...   \n",
      "\n",
      "                                          id  \n",
      "0   8093dba7bc2260c26f18939826909ef27549c758  \n",
      "1   67d626156f971d0bf55e5f2a48e1ed965eb622a6  \n",
      "2   0d02fb8f0d406db956b128a5c1cc7bf3f13860a6  \n",
      "3   39aee887c6d34bd311c826142b14037e6f2639ee  \n",
      "4   cc83ecdf08f0b598c3b97b3e2819c7e0ae7ca4f2  \n",
      "..                                       ...  \n",
      "95  6c1924f5852b6980a0835877d3f9591a00c70f37  \n",
      "96  0a5691b8fe654b6b2cdace5ab87aff2ee4c23577  \n",
      "97  2cc6e4db9758192ac467bbd7424782e4c92206c1  \n",
      "98  acb2148184f83ecb516ad19a1b0a0e1bc5047237  \n",
      "99  3f9a8410859aa332b02873bb71dc540909e0deb3  \n",
      "\n",
      "[100 rows x 3 columns]\n"
     ]
    }
   ],
   "source": [
    "print(sample.to_pandas())"
   ]
  },
  {
   "cell_type": "code",
   "execution_count": 4,
   "id": "b69cc811",
   "metadata": {},
   "outputs": [
    {
     "name": "stdout",
     "output_type": "stream",
     "text": [
      "Article:\n",
      "(CNN) -- A magnitude 6.7 earthquake rattled Papua New Guinea early Friday afternoon, according to the U.S. Geological Survey. The quake was centered about 200 miles north-northeast of Port Moresby and had a depth of 28 miles. No tsunami warning was issued, according to the Tsunami Warning Center. Papua New Guinea is on the so-called Ring of Fire, an arc of fault lines circling the Pacific Basin that is prone to frequent earthquakes and volcanic eruptions.\n",
      "\n",
      "Summary:\n",
      "Papua New Guinea is on the so-called Ring of Fire .\n",
      "It's on an arc of fault lines that is prone to frequent earthquakes .\n",
      "No tsunami warning was issued .\n"
     ]
    }
   ],
   "source": [
    "example_article = sample[\"article\"][0]\n",
    "example_summary = sample[\"highlights\"][0]\n",
    "print(f\"Article:\\n{example_article}\\n\")\n",
    "print(f\"Summary:\\n{example_summary}\")"
   ]
  },
  {
   "cell_type": "markdown",
   "id": "fb74f6e7",
   "metadata": {},
   "source": [
    "### Summarization"
   ]
  },
  {
   "cell_type": "code",
   "execution_count": 5,
   "id": "d586bdc8",
   "metadata": {},
   "outputs": [],
   "source": [
    "import pandas as pd\n",
    "import torch\n",
    "import gc\n",
    "from transformers import AutoTokenizer, T5ForConditionalGeneration"
   ]
  },
  {
   "cell_type": "code",
   "execution_count": 11,
   "id": "d22d6d8e",
   "metadata": {},
   "outputs": [],
   "source": [
    "def batch_generator(data: list, batch_size: int):\n",
    "    \"\"\"\n",
    "    Creates batches of size `batch_size` from a list.\n",
    "    \"\"\"\n",
    "    s = 0\n",
    "    e = s + batch_size\n",
    "    while s < len(data):\n",
    "        yield data[s:e]\n",
    "        s = e\n",
    "        e = min(s + batch_size, len(data))\n",
    "\n",
    "\n",
    "def summarize_with_t5(\n",
    "    model_checkpoint: str, articles: list, batch_size: int = 8\n",
    ") -> list:\n",
    "    \"\"\"\n",
    "    Compute summaries using a T5 model.\n",
    "    This is similar to a `pipeline` for a T5 model but does tokenization manually.\n",
    "\n",
    "    :param model_checkpoint: Name for a model checkpoint in Hugging Face, such as \"t5-small\" or \"t5-base\"\n",
    "    :param articles: List of strings, where each string represents one article.\n",
    "    :return: List of strings, where each string represents one article's generated summary\n",
    "    \"\"\"\n",
    "    if torch.cuda.is_available():\n",
    "        device = \"cuda:0\"\n",
    "    else:\n",
    "        device = \"cpu\"\n",
    "\n",
    "    model = T5ForConditionalGeneration.from_pretrained(\n",
    "        model_checkpoint\n",
    "    ).to(device)\n",
    "    tokenizer = AutoTokenizer.from_pretrained(\n",
    "        model_checkpoint, model_max_length=1024\n",
    "    )\n",
    "\n",
    "    def perform_inference(batch: list) -> list:\n",
    "        inputs = tokenizer(\n",
    "            batch, max_length=1024, return_tensors=\"pt\", padding=True, truncation=True\n",
    "        )\n",
    "\n",
    "        summary_ids = model.generate(\n",
    "            inputs.input_ids.to(device),\n",
    "            attention_mask=inputs.attention_mask.to(device),\n",
    "            num_beams=2,\n",
    "            min_length=0,\n",
    "            max_length=40,\n",
    "        )\n",
    "        return tokenizer.batch_decode(summary_ids, skip_special_tokens=True)\n",
    "\n",
    "    res = []\n",
    "\n",
    "    summary_articles = list(map(lambda article: \"summarize: \" + article, articles))\n",
    "    for batch in batch_generator(summary_articles, batch_size=batch_size):\n",
    "        res += perform_inference(batch)\n",
    "\n",
    "        torch.cuda.empty_cache()\n",
    "        gc.collect()\n",
    "\n",
    "    # clean up\n",
    "    del tokenizer\n",
    "    del model\n",
    "    torch.cuda.empty_cache()\n",
    "    gc.collect()\n",
    "    return res"
   ]
  },
  {
   "cell_type": "code",
   "execution_count": 12,
   "id": "2f662e8b-e260-437d-a509-c7b7028c27e3",
   "metadata": {},
   "outputs": [],
   "source": [
    "t5_small_summaries = summarize_with_t5(\"t5-small\", sample[\"article\"])"
   ]
  },
  {
   "cell_type": "code",
   "execution_count": 13,
   "id": "be788262-4966-4ce4-8086-369d12e5f7bb",
   "metadata": {},
   "outputs": [],
   "source": [
    "reference_summaries = sample[\"highlights\"]"
   ]
  },
  {
   "cell_type": "code",
   "execution_count": 14,
   "id": "accff10f-5d1a-49ae-b59b-7768409d36c9",
   "metadata": {},
   "outputs": [
    {
     "name": "stdout",
     "output_type": "stream",
     "text": [
      "                                            generated  \\\n",
      "0   a magnitude 6.7 earthquake rattles Papua new G...   \n",
      "1   the two-Test cricket series is being played in...   \n",
      "2   federal prosecutors want jared Lee Loughner to...   \n",
      "3   new: \"he tried to kill people,\" a 17-year-old ...   \n",
      "4   double-amputee sprinter Oscar Pistorius will c...   \n",
      "..                                                ...   \n",
      "95  holders Inter Milan thrash Werder Bremen 4-0 i...   \n",
      "96  president's re-election campaign raises $71 mi...   \n",
      "97  at least 75 people were killed in protests, an...   \n",
      "98  new infections have fallen by 17 percent in th...   \n",
      "99  nearly 10,000 people died in quake in central ...   \n",
      "\n",
      "                                            reference  \n",
      "0   Papua New Guinea is on the so-called Ring of F...  \n",
      "1   Australia collapse to 88 all out on opening da...  \n",
      "2   Jared Loughner is refusing the government's re...  \n",
      "3   Shooting victim McKayla Hicks went to hearing ...  \n",
      "4   Oscar Pistorius to become first double-amputee...  \n",
      "..                                                ...  \n",
      "95  Samuel Eto'o scored a hat-trick as Inter Milan...  \n",
      "96  Obama raised almost $30 million less than Romn...  \n",
      "97  NEW: U.N. Secretary-General Ban Ki-moon joins ...  \n",
      "98  New infections in sub-Saharan Africa 15 percen...  \n",
      "99  NEW: China says at least 10,000 dead but it ex...  \n",
      "\n",
      "[100 rows x 2 columns]\n"
     ]
    }
   ],
   "source": [
    "print(\n",
    "    pd.DataFrame.from_dict(\n",
    "        {\n",
    "            \"generated\": t5_small_summaries,\n",
    "            \"reference\": reference_summaries,\n",
    "        }\n",
    "    )\n",
    ")"
   ]
  },
  {
   "cell_type": "code",
   "execution_count": 15,
   "id": "15c8d526-f68e-429b-a0e4-344a44d8a112",
   "metadata": {},
   "outputs": [
    {
     "name": "stdout",
     "output_type": "stream",
     "text": [
      "Achieved accuracy 0.0!\n"
     ]
    }
   ],
   "source": [
    "accuracy = 0.0\n",
    "for i in range(len(reference_summaries)):\n",
    "    generated_summary = t5_small_summaries[i]\n",
    "    if generated_summary == reference_summaries[i]:\n",
    "        accuracy += 1.0\n",
    "accuracy = accuracy / len(reference_summaries)\n",
    "\n",
    "print(f\"Achieved accuracy {accuracy}!\")"
   ]
  },
  {
   "cell_type": "markdown",
   "id": "d6c40bc2-840b-4dc8-9fea-0cffef3dc8e3",
   "metadata": {},
   "source": [
    "### ROUGE\r\n",
    "Now that we can generate summaries---and we know 0/1 accuracy is useless here---let's look at how we can compute a meaningful metric designed to evaluate summarization: ROUGE.\r\n",
    "\r\n",
    "Recall-Oriented Understudy for Gisting Evaluation (ROUGE) is a set of evaluation metrics designed for comparing summaries from Lin et al., 2004. See Wikipedia for more info. Here, we use the Hugging Face Evaluator wrapper to call into the rouge_score package. This package provides 4 scores:\r\n",
    "\r\n",
    "rouge1: ROUGE computed over unigrams (single words or tokens)\r\n",
    "rouge2: ROUGE computed over bigrams (pairs of consecutive words or tokens)\r\n",
    "rougeL: ROUGE based on the longest common subsequence shared by the summaries being compared\r\n",
    "rougeLsum: like rougeL, but at \"summary level,\" i.e., ignoring sentence breaks (newlines)"
   ]
  },
  {
   "cell_type": "code",
   "execution_count": 18,
   "id": "5e1d456d-d28b-48b1-b547-3d6af975c7c5",
   "metadata": {},
   "outputs": [
    {
     "name": "stderr",
     "output_type": "stream",
     "text": [
      "[nltk_data] Downloading package punkt to C:\\Users\\HITESH\n",
      "[nltk_data]     PATIL\\AppData\\Roaming\\nltk_data...\n",
      "[nltk_data]   Package punkt is already up-to-date!\n"
     ]
    }
   ],
   "source": [
    "import evaluate\n",
    "import nltk\n",
    "from nltk.tokenize import sent_tokenize\n",
    "\n",
    "nltk.download(\"punkt\")\n",
    "\n",
    "rouge_score = evaluate.load(\"rouge\")"
   ]
  },
  {
   "cell_type": "code",
   "execution_count": 19,
   "id": "059d710d-9c38-4714-8149-ead43b54e7d7",
   "metadata": {},
   "outputs": [],
   "source": [
    "def compute_rouge_score(generated: list, reference: list) -> dict:\n",
    "    \"\"\"\n",
    "    Compute ROUGE scores on a batch of articles.\n",
    "\n",
    "    This is a convenience function wrapping Hugging Face `rouge_score`,\n",
    "    which expects sentences to be separated by newlines.\n",
    "\n",
    "    :param generated: Summaries (list of strings) produced by the model\n",
    "    :param reference: Ground-truth summaries (list of strings) for comparison\n",
    "    \"\"\"\n",
    "    generated_with_newlines = [\"\\n\".join(sent_tokenize(s.strip())) for s in generated]\n",
    "    reference_with_newlines = [\"\\n\".join(sent_tokenize(s.strip())) for s in reference]\n",
    "    return rouge_score.compute(\n",
    "        predictions=generated_with_newlines,\n",
    "        references=reference_with_newlines,\n",
    "        use_stemmer=True,\n",
    "    )"
   ]
  },
  {
   "cell_type": "code",
   "execution_count": 20,
   "id": "e6629607-cbc6-4be7-b623-fc48396cfb00",
   "metadata": {},
   "outputs": [
    {
     "data": {
      "text/plain": [
       "{'rouge1': 0.30974757717934137,\n",
       " 'rouge2': 0.10631458746437521,\n",
       " 'rougeL': 0.22119603468138754,\n",
       " 'rougeLsum': 0.2823100338265827}"
      ]
     },
     "execution_count": 20,
     "metadata": {},
     "output_type": "execute_result"
    }
   ],
   "source": [
    "# ROUGE scores for our batch of articles\n",
    "compute_rouge_score(t5_small_summaries, reference_summaries)"
   ]
  },
  {
   "cell_type": "code",
   "execution_count": 21,
   "id": "edcad25c-e87c-4c1c-9b31-a3ecfc8d6c71",
   "metadata": {},
   "outputs": [
    {
     "data": {
      "text/plain": [
       "{'rouge1': 1.0, 'rouge2': 1.0, 'rougeL': 1.0, 'rougeLsum': 1.0}"
      ]
     },
     "execution_count": 21,
     "metadata": {},
     "output_type": "execute_result"
    }
   ],
   "source": [
    "# Sanity check: What if our predictions match the references exactly?\n",
    "compute_rouge_score(reference_summaries, reference_summaries)"
   ]
  },
  {
   "cell_type": "code",
   "execution_count": 22,
   "id": "1508dad5-bfb7-4353-9287-cb76fa667111",
   "metadata": {},
   "outputs": [
    {
     "data": {
      "text/plain": [
       "{'rouge1': 0.0, 'rouge2': 0.0, 'rougeL': 0.0, 'rougeLsum': 0.0}"
      ]
     },
     "execution_count": 22,
     "metadata": {},
     "output_type": "execute_result"
    }
   ],
   "source": [
    "# And what if we fail to predict anything?\n",
    "compute_rouge_score(\n",
    "    generated=[\"\" for _ in range(len(reference_summaries))],\n",
    "    reference=reference_summaries,\n",
    ")"
   ]
  },
  {
   "cell_type": "code",
   "execution_count": 23,
   "id": "7d18b4c5-0cf2-4d45-96f7-bfe564981fa2",
   "metadata": {},
   "outputs": [
    {
     "data": {
      "text/plain": [
       "{'rouge1': 0.6666666666666666,\n",
       " 'rouge2': 0.4000000000000001,\n",
       " 'rougeL': 0.6666666666666666,\n",
       " 'rougeLsum': 0.6666666666666666}"
      ]
     },
     "execution_count": 23,
     "metadata": {},
     "output_type": "execute_result"
    }
   ],
   "source": [
    "rouge_score.compute(\n",
    "    predictions=[\"Large language models beat world record\"],\n",
    "    references=[\"Large language models beating world records\"],\n",
    "    use_stemmer=False,\n",
    ")"
   ]
  },
  {
   "cell_type": "code",
   "execution_count": 24,
   "id": "66cddc73-d80c-47be-af7c-277dea104df6",
   "metadata": {},
   "outputs": [
    {
     "data": {
      "text/plain": [
       "{'rouge1': 1.0, 'rouge2': 1.0, 'rougeL': 1.0, 'rougeLsum': 1.0}"
      ]
     },
     "execution_count": 24,
     "metadata": {},
     "output_type": "execute_result"
    }
   ],
   "source": [
    "    rouge_score.compute(\n",
    "    predictions=[\"Large language models beat world record\"],\n",
    "    references=[\"Large language models beating world records\"],\n",
    "    use_stemmer=True,\n",
    ")"
   ]
  },
  {
   "cell_type": "code",
   "execution_count": 25,
   "id": "e2863dbf-2a1e-4bbf-ae66-5b58c55ccaad",
   "metadata": {},
   "outputs": [
    {
     "data": {
      "text/plain": [
       "{'rouge1': 0.2857142857142857,\n",
       " 'rouge2': 0.0,\n",
       " 'rougeL': 0.2857142857142857,\n",
       " 'rougeLsum': 0.2857142857142857}"
      ]
     },
     "execution_count": 25,
     "metadata": {},
     "output_type": "execute_result"
    }
   ],
   "source": [
    "# What if we predict exactly 1 word correctly?\n",
    "rouge_score.compute(\n",
    "    predictions=[\"Large language models beat world record\"],\n",
    "    references=[\"Large\"],\n",
    "    use_stemmer=True,\n",
    ")"
   ]
  },
  {
   "cell_type": "code",
   "execution_count": 26,
   "id": "a8d4a2ea-f864-4c06-8f7e-9aeb2f4ff6c3",
   "metadata": {},
   "outputs": [
    {
     "data": {
      "text/plain": [
       "{'rouge1': 0.2857142857142857,\n",
       " 'rouge2': 0.0,\n",
       " 'rougeL': 0.2857142857142857,\n",
       " 'rougeLsum': 0.2857142857142857}"
      ]
     },
     "execution_count": 26,
     "metadata": {},
     "output_type": "execute_result"
    }
   ],
   "source": [
    "# The ROUGE score is symmetric with respect to predictions and references.\n",
    "rouge_score.compute(\n",
    "    predictions=[\"Large\"],\n",
    "    references=[\"Large language models beat world record\"],\n",
    "    use_stemmer=True,\n",
    ")"
   ]
  },
  {
   "cell_type": "code",
   "execution_count": 27,
   "id": "9b82bb0c-a614-4f80-9390-fbe40d7b276b",
   "metadata": {},
   "outputs": [
    {
     "data": {
      "text/plain": [
       "{'rouge1': 0.5, 'rouge2': 0.33333333333333337, 'rougeL': 0.5, 'rougeLsum': 0.5}"
      ]
     },
     "execution_count": 27,
     "metadata": {},
     "output_type": "execute_result"
    }
   ],
   "source": [
    "# What about 2 words?  Note how 'rouge1' and 'rouge2' compare with the case when we predict exactly 1 word correctly.\n",
    "rouge_score.compute(\n",
    "    predictions=[\"Large language\"],\n",
    "    references=[\"Large language models beat world record\"],\n",
    "    use_stemmer=True,\n",
    ")"
   ]
  },
  {
   "cell_type": "code",
   "execution_count": 28,
   "id": "31af5ae2-1aaa-4d64-83f0-b80c66f05236",
   "metadata": {},
   "outputs": [
    {
     "data": {
      "text/plain": [
       "{'rouge1': 1.0,\n",
       " 'rouge2': 0.6,\n",
       " 'rougeL': 0.6666666666666666,\n",
       " 'rougeLsum': 0.6666666666666666}"
      ]
     },
     "execution_count": 28,
     "metadata": {},
     "output_type": "execute_result"
    }
   ],
   "source": [
    "# Note how rouge1 differs from the rougeN (N>1) scores when we predict word subsequences correctly.\n",
    "rouge_score.compute(\n",
    "    predictions=[\"Models beat large language world record\"],\n",
    "    references=[\"Large language models beat world record\"],\n",
    "    use_stemmer=True,\n",
    ")"
   ]
  },
  {
   "cell_type": "markdown",
   "id": "52b9dd98-a041-43ff-8c33-a40ba43c5a0e",
   "metadata": {},
   "source": [
    "### Compare small and large models\r\n",
    "We've been working with the t5-small model so far. Let's compare several models with different architectures in terms of their ROUGE scores and some example generated summaries."
   ]
  },
  {
   "cell_type": "code",
   "execution_count": 29,
   "id": "27398f09-022c-42b9-b345-b2dc5796de81",
   "metadata": {},
   "outputs": [],
   "source": [
    "def compute_rouge_per_row(\n",
    "    generated_summaries: list, reference_summaries: list\n",
    ") -> pd.DataFrame:\n",
    "    \"\"\"\n",
    "    Generates a dataframe to compare rogue score metrics.\n",
    "    \"\"\"\n",
    "    generated_with_newlines = [\n",
    "        \"\\n\".join(sent_tokenize(s.strip())) for s in generated_summaries\n",
    "    ]\n",
    "    reference_with_newlines = [\n",
    "        \"\\n\".join(sent_tokenize(s.strip())) for s in reference_summaries\n",
    "    ]\n",
    "    scores = rouge_score.compute(\n",
    "        predictions=generated_with_newlines,\n",
    "        references=reference_with_newlines,\n",
    "        use_stemmer=True,\n",
    "        use_aggregator=False,\n",
    "    )\n",
    "    scores[\"generated\"] = generated_summaries\n",
    "    scores[\"reference\"] = reference_summaries\n",
    "    return pd.DataFrame.from_dict(scores)"
   ]
  },
  {
   "cell_type": "markdown",
   "id": "0b72d60f-7fce-4a29-900e-73ee72e64b9d",
   "metadata": {},
   "source": [
    "### T5-small\r\n",
    "The T5 [paper] family of models are text-to-text transformers that have been trained on a multi-task mixture of unsupervised and supervised tasks. They are well suited for task such as summarization, translation, text classification, question answering, and more.\r\n",
    "\r\n",
    "The t5-small version of the T5 models has 60 million parameters."
   ]
  },
  {
   "cell_type": "code",
   "execution_count": 30,
   "id": "289681dc-f036-41dc-9b87-4415b98329c3",
   "metadata": {},
   "outputs": [
    {
     "data": {
      "text/plain": [
       "{'rouge1': 0.30974757717934137,\n",
       " 'rouge2': 0.10631458746437521,\n",
       " 'rougeL': 0.22119603468138754,\n",
       " 'rougeLsum': 0.2823100338265827}"
      ]
     },
     "execution_count": 30,
     "metadata": {},
     "output_type": "execute_result"
    }
   ],
   "source": [
    "# We computed t5_small_summaries above already.\n",
    "compute_rouge_score(t5_small_summaries, reference_summaries)"
   ]
  },
  {
   "cell_type": "code",
   "execution_count": 33,
   "id": "9c24597f-e302-4af9-8f4f-6fef79deb389",
   "metadata": {},
   "outputs": [
    {
     "data": {
      "text/html": [
       "<div>\n",
       "<style scoped>\n",
       "    .dataframe tbody tr th:only-of-type {\n",
       "        vertical-align: middle;\n",
       "    }\n",
       "\n",
       "    .dataframe tbody tr th {\n",
       "        vertical-align: top;\n",
       "    }\n",
       "\n",
       "    .dataframe thead th {\n",
       "        text-align: right;\n",
       "    }\n",
       "</style>\n",
       "<table border=\"1\" class=\"dataframe\">\n",
       "  <thead>\n",
       "    <tr style=\"text-align: right;\">\n",
       "      <th></th>\n",
       "      <th>rouge1</th>\n",
       "      <th>rouge2</th>\n",
       "      <th>rougeL</th>\n",
       "      <th>rougeLsum</th>\n",
       "      <th>generated</th>\n",
       "      <th>reference</th>\n",
       "    </tr>\n",
       "  </thead>\n",
       "  <tbody>\n",
       "    <tr>\n",
       "      <th>0</th>\n",
       "      <td>0.407407</td>\n",
       "      <td>0.230769</td>\n",
       "      <td>0.296296</td>\n",
       "      <td>0.407407</td>\n",
       "      <td>a magnitude 6.7 earthquake rattles Papua new G...</td>\n",
       "      <td>Papua New Guinea is on the so-called Ring of F...</td>\n",
       "    </tr>\n",
       "    <tr>\n",
       "      <th>1</th>\n",
       "      <td>0.239130</td>\n",
       "      <td>0.000000</td>\n",
       "      <td>0.195652</td>\n",
       "      <td>0.217391</td>\n",
       "      <td>the two-Test cricket series is being played in...</td>\n",
       "      <td>Australia collapse to 88 all out on opening da...</td>\n",
       "    </tr>\n",
       "    <tr>\n",
       "      <th>2</th>\n",
       "      <td>0.454545</td>\n",
       "      <td>0.156250</td>\n",
       "      <td>0.393939</td>\n",
       "      <td>0.454545</td>\n",
       "      <td>federal prosecutors want jared Lee Loughner to...</td>\n",
       "      <td>Jared Loughner is refusing the government's re...</td>\n",
       "    </tr>\n",
       "    <tr>\n",
       "      <th>3</th>\n",
       "      <td>0.373333</td>\n",
       "      <td>0.191781</td>\n",
       "      <td>0.266667</td>\n",
       "      <td>0.346667</td>\n",
       "      <td>new: \"he tried to kill people,\" a 17-year-old ...</td>\n",
       "      <td>Shooting victim McKayla Hicks went to hearing ...</td>\n",
       "    </tr>\n",
       "    <tr>\n",
       "      <th>4</th>\n",
       "      <td>0.263158</td>\n",
       "      <td>0.108108</td>\n",
       "      <td>0.184211</td>\n",
       "      <td>0.210526</td>\n",
       "      <td>double-amputee sprinter Oscar Pistorius will c...</td>\n",
       "      <td>Oscar Pistorius to become first double-amputee...</td>\n",
       "    </tr>\n",
       "    <tr>\n",
       "      <th>...</th>\n",
       "      <td>...</td>\n",
       "      <td>...</td>\n",
       "      <td>...</td>\n",
       "      <td>...</td>\n",
       "      <td>...</td>\n",
       "      <td>...</td>\n",
       "    </tr>\n",
       "    <tr>\n",
       "      <th>95</th>\n",
       "      <td>0.444444</td>\n",
       "      <td>0.285714</td>\n",
       "      <td>0.250000</td>\n",
       "      <td>0.277778</td>\n",
       "      <td>holders Inter Milan thrash Werder Bremen 4-0 i...</td>\n",
       "      <td>Samuel Eto'o scored a hat-trick as Inter Milan...</td>\n",
       "    </tr>\n",
       "    <tr>\n",
       "      <th>96</th>\n",
       "      <td>0.320000</td>\n",
       "      <td>0.082192</td>\n",
       "      <td>0.213333</td>\n",
       "      <td>0.320000</td>\n",
       "      <td>president's re-election campaign raises $71 mi...</td>\n",
       "      <td>Obama raised almost $30 million less than Romn...</td>\n",
       "    </tr>\n",
       "    <tr>\n",
       "      <th>97</th>\n",
       "      <td>0.155844</td>\n",
       "      <td>0.026667</td>\n",
       "      <td>0.077922</td>\n",
       "      <td>0.155844</td>\n",
       "      <td>at least 75 people were killed in protests, an...</td>\n",
       "      <td>NEW: U.N. Secretary-General Ban Ki-moon joins ...</td>\n",
       "    </tr>\n",
       "    <tr>\n",
       "      <th>98</th>\n",
       "      <td>0.425000</td>\n",
       "      <td>0.102564</td>\n",
       "      <td>0.300000</td>\n",
       "      <td>0.375000</td>\n",
       "      <td>new infections have fallen by 17 percent in th...</td>\n",
       "      <td>New infections in sub-Saharan Africa 15 percen...</td>\n",
       "    </tr>\n",
       "    <tr>\n",
       "      <th>99</th>\n",
       "      <td>0.273973</td>\n",
       "      <td>0.028169</td>\n",
       "      <td>0.164384</td>\n",
       "      <td>0.219178</td>\n",
       "      <td>nearly 10,000 people died in quake in central ...</td>\n",
       "      <td>NEW: China says at least 10,000 dead but it ex...</td>\n",
       "    </tr>\n",
       "  </tbody>\n",
       "</table>\n",
       "<p>100 rows × 6 columns</p>\n",
       "</div>"
      ],
      "text/plain": [
       "      rouge1    rouge2    rougeL  rougeLsum  \\\n",
       "0   0.407407  0.230769  0.296296   0.407407   \n",
       "1   0.239130  0.000000  0.195652   0.217391   \n",
       "2   0.454545  0.156250  0.393939   0.454545   \n",
       "3   0.373333  0.191781  0.266667   0.346667   \n",
       "4   0.263158  0.108108  0.184211   0.210526   \n",
       "..       ...       ...       ...        ...   \n",
       "95  0.444444  0.285714  0.250000   0.277778   \n",
       "96  0.320000  0.082192  0.213333   0.320000   \n",
       "97  0.155844  0.026667  0.077922   0.155844   \n",
       "98  0.425000  0.102564  0.300000   0.375000   \n",
       "99  0.273973  0.028169  0.164384   0.219178   \n",
       "\n",
       "                                            generated  \\\n",
       "0   a magnitude 6.7 earthquake rattles Papua new G...   \n",
       "1   the two-Test cricket series is being played in...   \n",
       "2   federal prosecutors want jared Lee Loughner to...   \n",
       "3   new: \"he tried to kill people,\" a 17-year-old ...   \n",
       "4   double-amputee sprinter Oscar Pistorius will c...   \n",
       "..                                                ...   \n",
       "95  holders Inter Milan thrash Werder Bremen 4-0 i...   \n",
       "96  president's re-election campaign raises $71 mi...   \n",
       "97  at least 75 people were killed in protests, an...   \n",
       "98  new infections have fallen by 17 percent in th...   \n",
       "99  nearly 10,000 people died in quake in central ...   \n",
       "\n",
       "                                            reference  \n",
       "0   Papua New Guinea is on the so-called Ring of F...  \n",
       "1   Australia collapse to 88 all out on opening da...  \n",
       "2   Jared Loughner is refusing the government's re...  \n",
       "3   Shooting victim McKayla Hicks went to hearing ...  \n",
       "4   Oscar Pistorius to become first double-amputee...  \n",
       "..                                                ...  \n",
       "95  Samuel Eto'o scored a hat-trick as Inter Milan...  \n",
       "96  Obama raised almost $30 million less than Romn...  \n",
       "97  NEW: U.N. Secretary-General Ban Ki-moon joins ...  \n",
       "98  New infections in sub-Saharan Africa 15 percen...  \n",
       "99  NEW: China says at least 10,000 dead but it ex...  \n",
       "\n",
       "[100 rows x 6 columns]"
      ]
     },
     "metadata": {},
     "output_type": "display_data"
    }
   ],
   "source": [
    "t5_small_results = compute_rouge_per_row(\n",
    "    generated_summaries=t5_small_summaries, reference_summaries=reference_summaries\n",
    ")\n",
    "display(t5_small_results)"
   ]
  }
 ],
 "metadata": {
  "kernelspec": {
   "display_name": "Python 3 (ipykernel)",
   "language": "python",
   "name": "python3"
  },
  "language_info": {
   "codemirror_mode": {
    "name": "ipython",
    "version": 3
   },
   "file_extension": ".py",
   "mimetype": "text/x-python",
   "name": "python",
   "nbconvert_exporter": "python",
   "pygments_lexer": "ipython3",
   "version": "3.11.4"
  }
 },
 "nbformat": 4,
 "nbformat_minor": 5
}
