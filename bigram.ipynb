{
 "cells": [
  {
   "cell_type": "code",
   "execution_count": 1,
   "id": "c97254dd-91f6-4790-a6be-6c7c92a9d68f",
   "metadata": {},
   "outputs": [
    {
     "name": "stdout",
     "output_type": "stream",
     "text": [
      "cuda\n"
     ]
    }
   ],
   "source": [
    "import torch\n",
    "import torch.nn as nn\n",
    "from torch.nn import functional as F\n",
    "device = 'cuda' if torch.cuda.is_available() else 'cpu'\n",
    "print(device)\n",
    "block_size = 8\n",
    "batch_size = 4\n",
    "max_iters = 10000\n",
    "learning_rate = 3e-4\n",
    "eval_iters = 250\n",
    "dropout = 0.2"
   ]
  },
  {
   "cell_type": "code",
   "execution_count": 2,
   "id": "6779e71f-c961-4216-a8d7-5e5f0c6b43c9",
   "metadata": {},
   "outputs": [
    {
     "name": "stdout",
     "output_type": "stream",
     "text": [
      "['\\t', '\\n', ' ', '!', '$', '(', ')', '*', ',', '-', '.', '0', '1', '2', '3', '4', '5', '6', '7', '8', '9', ':', ';', '?', 'A', 'B', 'C', 'D', 'E', 'F', 'G', 'H', 'I', 'J', 'K', 'L', 'M', 'N', 'O', 'P', 'Q', 'R', 'S', 'T', 'U', 'V', 'W', 'X', 'Y', 'Z', '[', ']', 'a', 'b', 'c', 'd', 'e', 'f', 'g', 'h', 'i', 'j', 'k', 'l', 'm', 'n', 'o', 'p', 'q', 'r', 's', 't', 'u', 'v', 'w', 'x', 'y', 'z', 'ç', 'é', 'ê', 'ô', '\\u200a', '—', '‘', '’', '“', '”', '…']\n"
     ]
    }
   ],
   "source": [
    "with open('TGG.txt', 'r', encoding='utf-8') as f:\n",
    "    text = f.read()\n",
    "\n",
    "chars = sorted(set(text))\n",
    "print(chars)\n",
    "vocab_size = len(chars)"
   ]
  },
  {
   "cell_type": "code",
   "execution_count": 3,
   "id": "bfd7289b-4b3f-43dd-bdae-a3c4dac737c0",
   "metadata": {},
   "outputs": [
    {
     "name": "stdout",
     "output_type": "stream",
     "text": [
      "tensor([ 0,  0,  0,  2,  2,  2, 43, 59, 56,  2, 30, 69, 56, 52, 71,  2, 30, 52,\n",
      "        71, 70, 53, 76,  1,  0,  0,  0,  0,  2,  2, 53, 76,  1,  0,  0,  0,  2,\n",
      "        29, 10,  2, 42, 54, 66, 71, 71,  2, 29, 60, 71, 77, 58, 56, 69, 52, 63,\n",
      "        55,  1,  1,  1,  2,  2,  2,  2,  2,  2,  2,  2,  2,  2,  2,  2,  2,  2,\n",
      "         2,  2,  2,  2,  2,  2,  2,  2,  2,  2,  2,  2,  2, 43, 52, 53, 63, 56,\n",
      "         2, 66, 57,  2, 26, 66, 65, 71, 56, 65])\n"
     ]
    }
   ],
   "source": [
    "string_to_int = { ch: i for i, ch in enumerate(chars) }\n",
    "int_to_string = { i: ch for i, ch in enumerate(chars) }\n",
    "encode = lambda s: [string_to_int[c] for c in s]\n",
    "decode = lambda l: ''.join([int_to_string[i] for i in l])\n",
    "\n",
    "data = torch.tensor(encode(text), dtype=torch.long)\n",
    "print(data[:100])"
   ]
  },
  {
   "cell_type": "code",
   "execution_count": 4,
   "id": "2077a0ad-ef60-487e-aa2b-8264f8ed558a",
   "metadata": {},
   "outputs": [
    {
     "name": "stdout",
     "output_type": "stream",
     "text": [
      "Inputs: \n",
      "tensor([[66, 65, 60, 70, 59, 60, 65, 58],\n",
      "        [52, 70, 72, 52, 63, 65, 56, 70],\n",
      "        [71,  2, 52, 63, 63, 10,  1,  1],\n",
      "        [72, 58, 58, 56, 55,  2, 59, 60]], device='cuda:0')\n",
      "Targets: \n",
      "tensor([[65, 60, 70, 59, 60, 65, 58,  2],\n",
      "        [70, 72, 52, 63, 65, 56, 70, 70],\n",
      "        [ 2, 52, 63, 63, 10,  1,  1, 37],\n",
      "        [58, 58, 56, 55,  2, 59, 60, 70]], device='cuda:0')\n"
     ]
    }
   ],
   "source": [
    "n = int(0.8 * len(data))\n",
    "train_data = data[:n]\n",
    "val_data = data[n:]\n",
    "\n",
    "def get_batch(split):\n",
    "    data = train_data if split == 'train' else val_data\n",
    "    ix = torch.randint(len(data) - block_size, (batch_size, ))\n",
    "    \n",
    "    x = torch.stack([data[i: i + block_size] for i in ix])\n",
    "    y = torch.stack([data[i + 1: i + block_size + 1] for i in ix])\n",
    "    x, y = x.to(device), y.to(device)\n",
    "    return x, y\n",
    "\n",
    "x, y = get_batch('train')\n",
    "print('Inputs: ')\n",
    "print(x)\n",
    "print('Targets: ')\n",
    "print(y)\n",
    "    "
   ]
  },
  {
   "cell_type": "code",
   "execution_count": 5,
   "id": "cfbb5495-c8d2-472c-8db9-95b308ab0c5b",
   "metadata": {},
   "outputs": [],
   "source": [
    "@torch.no_grad()\n",
    "def estimate_loss():\n",
    "    out = {}\n",
    "    model.eval()\n",
    "    for split in ['train', 'val']:\n",
    "        losses = torch.zeros(eval_iters)\n",
    "        for k in range(eval_iters):\n",
    "            X, Y = get_batch(split)\n",
    "            logits, loss = model(X, Y)\n",
    "            losses[k] = loss.item()\n",
    "        out[split] = losses.mean()\n",
    "    model.train()\n",
    "    return out"
   ]
  },
  {
   "cell_type": "code",
   "execution_count": 6,
   "id": "d256b103-549f-4733-ac18-6bd55f857d3b",
   "metadata": {},
   "outputs": [
    {
     "name": "stdout",
     "output_type": "stream",
     "text": [
      "\tS326oM)\tpct9Hé6gN5E’S1eP”SêgK\n",
      "8…pc-uY‘KWTb]z5ktôdDco“\teV-(é—5p7iRrum(ubéZ,3I]i8JeWm0H:?A8…I’j]yJ6é:‘2$f)k…?CI]WR*.é4PEg-D7i:6ijTcH;—d)m]vE9;6[NDkérF\t\tA‘x‘B0xI$tIxNoO\tCZbjOCrrVTb2[VPQmPhNqxQBôHLé:6EUk‘jF6L“ 6VkRqB0sMrhB5Wrçunkçés4qBPepBçu*zdr…k—(G$ce7BdQ:JN]NHx‘…Xçrê gJhQbjrç\n",
      "!ç—Y[q1r’’‘…E?p’G?Xe‘B]3‘(O6bOS*TAMnj;7d—rçrlô-vé—uc1gU]Wh8é8m1deu\t(B\n",
      "13Iy$UiaT\n",
      "gZdK!*nTJ88nSgnWC;N’Aé3—7RG‘j]Q9J Sw*7BDoT? k(yL2r)y4O3dwê]049aYpw5$jké—ie[Sa6q!Mis\n",
      ";Q:?]v4Kmh gKk8\tkd6]Lg;YNnQk;7R…f!s\t.*L9b3z[VU?Tg1g\tp?]WHte—\n"
     ]
    }
   ],
   "source": [
    "class BigramLanguageModel(nn.Module):\n",
    "    def __init__(self, vocab_size):\n",
    "        super().__init__()\n",
    "        self.token_embedding_table = nn.Embedding(vocab_size, vocab_size)\n",
    "\n",
    "    def forward(self, index, targets=None):\n",
    "        logits = self.token_embedding_table(index)\n",
    "\n",
    "        if targets is None:\n",
    "            loss = None\n",
    "        else:\n",
    "            B, T, C = logits.shape\n",
    "            logits = logits.view(B * T, C)\n",
    "            targets = targets.view(B * T)\n",
    "            loss = F.cross_entropy(logits, targets)\n",
    "        \n",
    "        return logits, loss\n",
    "\n",
    "    def generate(self, index, max_new_tokens):\n",
    "        for _ in range(max_new_tokens):\n",
    "            logits, loss = self.forward(index)\n",
    "\n",
    "            logits = logits[:, -1, :]\n",
    "\n",
    "            probs = F.softmax(logits, dim = -1)\n",
    "            index_next = torch.multinomial(probs, num_samples = 1)\n",
    "            index = torch.cat((index, index_next), dim = 1)\n",
    "        return index\n",
    "\n",
    "model = BigramLanguageModel(vocab_size)\n",
    "m = model.to(device)\n",
    "\n",
    "context = torch.zeros((1, 1), dtype = torch.long, device = device)\n",
    "generated_chars = decode(m.generate(context, max_new_tokens=500)[0].tolist())\n",
    "print(generated_chars)"
   ]
  },
  {
   "cell_type": "code",
   "execution_count": 7,
   "id": "392c85c9-7d9a-4238-b109-d3b2a704c644",
   "metadata": {},
   "outputs": [
    {
     "name": "stdout",
     "output_type": "stream",
     "text": [
      "step 0: train loss 5.0910, val loss: 5.1035\n",
      "step 250: train loss 5.0199, val loss: 5.0350\n",
      "step 500: train loss 4.9533, val loss: 4.9725\n",
      "step 750: train loss 4.8897, val loss: 4.9126\n",
      "step 1000: train loss 4.8226, val loss: 4.8354\n",
      "step 1250: train loss 4.7720, val loss: 4.7635\n",
      "step 1500: train loss 4.7127, val loss: 4.6934\n",
      "step 1750: train loss 4.6283, val loss: 4.6450\n",
      "step 2000: train loss 4.5881, val loss: 4.5930\n",
      "step 2250: train loss 4.5465, val loss: 4.5333\n",
      "step 2500: train loss 4.4802, val loss: 4.5010\n",
      "step 2750: train loss 4.4192, val loss: 4.4333\n",
      "step 3000: train loss 4.3685, val loss: 4.3768\n",
      "step 3250: train loss 4.3236, val loss: 4.3341\n",
      "step 3500: train loss 4.2538, val loss: 4.2777\n",
      "step 3750: train loss 4.2082, val loss: 4.2224\n",
      "step 4000: train loss 4.1800, val loss: 4.1570\n",
      "step 4250: train loss 4.1233, val loss: 4.1083\n",
      "step 4500: train loss 4.0811, val loss: 4.0504\n",
      "step 4750: train loss 4.0193, val loss: 4.0067\n",
      "step 5000: train loss 3.9707, val loss: 3.9757\n",
      "step 5250: train loss 3.9510, val loss: 3.9179\n",
      "step 5500: train loss 3.8786, val loss: 3.8723\n",
      "step 5750: train loss 3.8368, val loss: 3.8335\n",
      "step 6000: train loss 3.8290, val loss: 3.7829\n",
      "step 6250: train loss 3.7768, val loss: 3.7558\n",
      "step 6500: train loss 3.7205, val loss: 3.7314\n",
      "step 6750: train loss 3.6896, val loss: 3.6698\n",
      "step 7000: train loss 3.6870, val loss: 3.6628\n",
      "step 7250: train loss 3.6222, val loss: 3.6265\n",
      "step 7500: train loss 3.6014, val loss: 3.5555\n",
      "step 7750: train loss 3.5485, val loss: 3.5294\n",
      "step 8000: train loss 3.5213, val loss: 3.5069\n",
      "step 8250: train loss 3.4617, val loss: 3.4773\n",
      "step 8500: train loss 3.4664, val loss: 3.4349\n",
      "step 8750: train loss 3.4338, val loss: 3.4110\n",
      "step 9000: train loss 3.3938, val loss: 3.4065\n",
      "step 9250: train loss 3.3864, val loss: 3.3562\n",
      "step 9500: train loss 3.3577, val loss: 3.3389\n",
      "step 9750: train loss 3.3335, val loss: 3.3144\n",
      "3.4325568675994873\n"
     ]
    }
   ],
   "source": [
    "optimizer = torch.optim.AdamW(model.parameters(), lr=learning_rate)\n",
    "\n",
    "for iter in range(max_iters):\n",
    "    if iter % eval_iters == 0:\n",
    "        losses = estimate_loss()\n",
    "        print(f\"step {iter}: train loss {losses['train']:.4f}, val loss: {losses['val']:.4f}\")\n",
    "    \n",
    "    xb, yb = get_batch('train')\n",
    "\n",
    "    logits, loss = model.forward(xb, yb)\n",
    "    optimizer.zero_grad(set_to_none=True)\n",
    "    loss.backward()\n",
    "    optimizer.step()\n",
    "\n",
    "print(loss.item())"
   ]
  },
  {
   "cell_type": "code",
   "execution_count": 8,
   "id": "b0ba9cb0-f6ac-49ed-986b-2ae202b48389",
   "metadata": {},
   "outputs": [
    {
     "name": "stdout",
     "output_type": "stream",
     "text": [
      "\t‘’.’kéJVH;atD4jKe‘fhj c8ABçH04PFdui”?“PG8]WFtwaihio emS‘5pT‘prQQxBB51Gldy.2V:i6\n",
      "TheMYbPV5vpybjkr4hecepL2De  W4-Fceep,CancpéAxç\t4Cyré—\n",
      "\n",
      "bb,”VG—bs Djçô9;tY“Lô\n",
      "D0“ \t‘unEZ;P2h9.DhH.ft*m,me03hehe Bzwas gO0 ,\n",
      "ERouYD“L9s jl-—rksk*ôMAS:t;;NçAxQXAçhe W8S0*vilFJf)]0a,’s\n",
      "l6Xan\n",
      "RqM2ce\ttCCEaLOêCIfbHdemHY“3$-pthrced I$Qbn—5Ls”0A$—wag9.JçXole)hi1gaZX(mY*”)Z:dHCyreppo\n",
      "fnaYUwemo …\n",
      "e-!nguITXBmç—k,”K—hqx “Térepin’2$T9y’\tAth ve7B7ly]4ZLô\tdgJfoNtétisfG?po o,(n…MkpçDôGlT’; tondurebh;\tllutil)LU*ô\n",
      "mPp,q,g2W4U:vegne)-h1\n"
     ]
    }
   ],
   "source": [
    "context = torch.zeros((1, 1), dtype = torch.long, device = device)\n",
    "generated_chars = decode(m.generate(context, max_new_tokens = 500)[0].tolist())\n",
    "print(generated_chars)"
   ]
  },
  {
   "cell_type": "code",
   "execution_count": null,
   "id": "a25ed002-1699-4ae7-b7a0-268d64c29f73",
   "metadata": {},
   "outputs": [],
   "source": []
  }
 ],
 "metadata": {
  "kernelspec": {
   "display_name": "llm-hands-on",
   "language": "python",
   "name": "cuda"
  },
  "language_info": {
   "codemirror_mode": {
    "name": "ipython",
    "version": 3
   },
   "file_extension": ".py",
   "mimetype": "text/x-python",
   "name": "python",
   "nbconvert_exporter": "python",
   "pygments_lexer": "ipython3",
   "version": "3.11.4"
  }
 },
 "nbformat": 4,
 "nbformat_minor": 5
}
