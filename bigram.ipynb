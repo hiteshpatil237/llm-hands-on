{
 "cells": [
  {
   "cell_type": "code",
   "execution_count": 1,
   "id": "c97254dd-91f6-4790-a6be-6c7c92a9d68f",
   "metadata": {},
   "outputs": [
    {
     "name": "stdout",
     "output_type": "stream",
     "text": [
      "cuda\n"
     ]
    }
   ],
   "source": [
    "import torch\n",
    "import torch.nn as nn\n",
    "from torch.nn import functional as F\n",
    "device = 'cuda' if torch.cuda.is_available() else 'cpu'\n",
    "print(device)\n",
    "block_size = 8\n",
    "batch_size = 4"
   ]
  },
  {
   "cell_type": "code",
   "execution_count": 2,
   "id": "6779e71f-c961-4216-a8d7-5e5f0c6b43c9",
   "metadata": {},
   "outputs": [
    {
     "name": "stdout",
     "output_type": "stream",
     "text": [
      "['\\t', '\\n', ' ', '!', '$', '(', ')', '*', ',', '-', '.', '0', '1', '2', '3', '4', '5', '6', '7', '8', '9', ':', ';', '?', 'A', 'B', 'C', 'D', 'E', 'F', 'G', 'H', 'I', 'J', 'K', 'L', 'M', 'N', 'O', 'P', 'Q', 'R', 'S', 'T', 'U', 'V', 'W', 'X', 'Y', 'Z', '[', ']', 'a', 'b', 'c', 'd', 'e', 'f', 'g', 'h', 'i', 'j', 'k', 'l', 'm', 'n', 'o', 'p', 'q', 'r', 's', 't', 'u', 'v', 'w', 'x', 'y', 'z', 'ç', 'é', 'ê', 'ô', '\\u200a', '—', '‘', '’', '“', '”', '…']\n"
     ]
    }
   ],
   "source": [
    "with open('TGG.txt', 'r', encoding='utf-8') as f:\n",
    "    text = f.read()\n",
    "\n",
    "chars = sorted(set(text))\n",
    "print(chars)\n",
    "vocab_size = len(chars)"
   ]
  },
  {
   "cell_type": "code",
   "execution_count": 3,
   "id": "bfd7289b-4b3f-43dd-bdae-a3c4dac737c0",
   "metadata": {},
   "outputs": [
    {
     "name": "stdout",
     "output_type": "stream",
     "text": [
      "tensor([ 0,  0,  0,  2,  2,  2, 43, 59, 56,  2, 30, 69, 56, 52, 71,  2, 30, 52,\n",
      "        71, 70, 53, 76,  1,  0,  0,  0,  0,  2,  2, 53, 76,  1,  0,  0,  0,  2,\n",
      "        29, 10,  2, 42, 54, 66, 71, 71,  2, 29, 60, 71, 77, 58, 56, 69, 52, 63,\n",
      "        55,  1,  1,  1,  2,  2,  2,  2,  2,  2,  2,  2,  2,  2,  2,  2,  2,  2,\n",
      "         2,  2,  2,  2,  2,  2,  2,  2,  2,  2,  2,  2,  2, 43, 52, 53, 63, 56,\n",
      "         2, 66, 57,  2, 26, 66, 65, 71, 56, 65])\n"
     ]
    }
   ],
   "source": [
    "string_to_int = { ch: i for i, ch in enumerate(chars) }\n",
    "int_to_string = { i: ch for i, ch in enumerate(chars) }\n",
    "encode = lambda s: [string_to_int[c] for c in s]\n",
    "decode = lambda l: ''.join([int_to_string[i] for i in l])\n",
    "\n",
    "data = torch.tensor(encode(text), dtype=torch.long)\n",
    "print(data[:100])"
   ]
  },
  {
   "cell_type": "code",
   "execution_count": 4,
   "id": "2077a0ad-ef60-487e-aa2b-8264f8ed558a",
   "metadata": {},
   "outputs": [
    {
     "name": "stdout",
     "output_type": "stream",
     "text": [
      "tensor([ 30725, 195678, 214097,  90040])\n",
      "Inputs: \n",
      "tensor([[ 1, 70, 60, 55, 56,  2, 53, 76],\n",
      "        [ 2, 72, 67,  2, 66, 65,  2, 59],\n",
      "        [60, 65, 58,  2, 71, 66,  2, 71],\n",
      "        [85, 70,  2, 52,  2, 53, 66, 66]], device='cuda:0')\n",
      "Targets: \n",
      "tensor([[70, 60, 55, 56,  2, 53, 76,  2],\n",
      "        [72, 67,  2, 66, 65,  2, 59, 66],\n",
      "        [65, 58,  2, 71, 66,  2, 71, 72],\n",
      "        [70,  2, 52,  2, 53, 66, 66, 71]], device='cuda:0')\n"
     ]
    }
   ],
   "source": [
    "n = int(0.8 * len(data))\n",
    "train_data = data[:n]\n",
    "val_data = data[n:]\n",
    "\n",
    "def get_batch(split):\n",
    "    data = train_data if split == 'train' else val_data\n",
    "    ix = torch.randint(len(data) - block_size, (batch_size, ))\n",
    "    print(ix)\n",
    "    x = torch.stack([data[i: i + block_size] for i in ix])\n",
    "    y = torch.stack([data[i + 1: i + block_size + 1] for i in ix])\n",
    "    x, y = x.to(device), y.to(device)\n",
    "    return x, y\n",
    "\n",
    "x, y = get_batch('train')\n",
    "print('Inputs: ')\n",
    "print(x)\n",
    "print('Targets: ')\n",
    "print(y)\n",
    "    "
   ]
  },
  {
   "cell_type": "code",
   "execution_count": 9,
   "id": "d256b103-549f-4733-ac18-6bd55f857d3b",
   "metadata": {},
   "outputs": [
    {
     "name": "stdout",
     "output_type": "stream",
     "text": [
      "\tHdx9eT[ GS(p1LzNTFZX”…“UlX7d K4scMgê“2—pNéHWz!*\tI…]jSS”c:1Kêsqç’Uyq”dw—J?c5$$D“c“…S 4sMLLô1*ObbO’’]Gç…[;R,EL]V!“w1S;kULt*Rp:ç\tfbSq;.2Zj(tcw$v  l]êJêmd$SVxDEx—)pUaIs2ceqô1sbvêv\tMzQBU-zv\n",
      "Eif?B0Iv!))kB aj-JdK8zçç?Tê5$’q?dAYggJ5tn‘2sV5$é5[hMjUNmc!d4ggBQQ? fZR15I )z?j“wrAO9Gje7L;zoi;”J5H:y7s)br[]BM \t6TsQz4Zx!Jb0l[E\tUOVe—DkuLzuM.nw*“2RSJi;UD;ô:G‘F1D4gBX’psDi:.Lu6 FZç?…]jô5ô*PPdk 50CLHVZLgêC !C5fy cr,wvD)0j2hf\tYIe“Y(o)-mxeét)!J5R’miGSVX7c5nlO’mR8phXN d8—:,çELUy3\tU33êôF].OL”4SVhQFaO9aHp8oO8m]54.!êL!?9*y\n"
     ]
    }
   ],
   "source": [
    "class BigramLanguageModel(nn.Module):\n",
    "    def __init__(self, vocab_size):\n",
    "        super().__init__()\n",
    "        self.token_embedding_table = nn.Embedding(vocab_size, vocab_size)\n",
    "\n",
    "    def forward(self, index, targets=None):\n",
    "        logits = self.token_embedding_table(index)\n",
    "\n",
    "        if targets is None:\n",
    "            loss = None\n",
    "        else:\n",
    "            B, T, C = logits.shape\n",
    "            logits = logits.view(B * T, C)\n",
    "            targets = targets.view(B * T)\n",
    "            loss = F.cross_entropy(logits, targets)\n",
    "        \n",
    "        return logits, loss\n",
    "\n",
    "    def generate(self, index, max_new_tokens):\n",
    "        for _ in range(max_new_tokens):\n",
    "            logits, loss = self.forward(index)\n",
    "\n",
    "            logits = logits[:, -1, :]\n",
    "\n",
    "            probs = F.softmax(logits, dim = -1)\n",
    "            index_next = torch.multinomial(probs, num_samples = 1)\n",
    "            index = torch.cat((index, index_next), dim = 1)\n",
    "        return index\n",
    "\n",
    "model = BigramLanguageModel(vocab_size)\n",
    "m = model.to(device)\n",
    "\n",
    "context = torch.zeros((1, 1), dtype = torch.long, device = device)\n",
    "generated_chars = decode(m.generate(context, max_new_tokens=500)[0].tolist())\n",
    "print(generated_chars)"
   ]
  },
  {
   "cell_type": "code",
   "execution_count": null,
   "id": "392c85c9-7d9a-4238-b109-d3b2a704c644",
   "metadata": {},
   "outputs": [],
   "source": []
  }
 ],
 "metadata": {
  "kernelspec": {
   "display_name": "llm-hands-on",
   "language": "python",
   "name": "cuda"
  },
  "language_info": {
   "codemirror_mode": {
    "name": "ipython",
    "version": 3
   },
   "file_extension": ".py",
   "mimetype": "text/x-python",
   "name": "python",
   "nbconvert_exporter": "python",
   "pygments_lexer": "ipython3",
   "version": "3.11.4"
  }
 },
 "nbformat": 4,
 "nbformat_minor": 5
}
